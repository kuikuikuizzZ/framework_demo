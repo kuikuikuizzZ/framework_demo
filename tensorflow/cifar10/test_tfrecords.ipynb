{
 "cells": [
  {
   "cell_type": "code",
   "execution_count": 1,
   "metadata": {},
   "outputs": [
    {
     "name": "stdout",
     "output_type": "stream",
     "text": [
      "env: CUDA_VISIBLE_DEVICES=2\n"
     ]
    }
   ],
   "source": [
    "%env CUDA_VISIBLE_DEVICES=2"
   ]
  },
  {
   "cell_type": "code",
   "execution_count": 2,
   "metadata": {},
   "outputs": [],
   "source": [
    "import tensorflow as tf\n",
    "import os \n",
    "import glob\n",
    "import numpy as np\n",
    "import matplotlib.pyplot as plt\n",
    "%matplotlib inline"
   ]
  },
  {
   "cell_type": "code",
   "execution_count": 3,
   "metadata": {},
   "outputs": [],
   "source": [
    "file_names = glob.glob('../data/test/*/*.png')\n",
    "file_tensors = tf.train.match_filenames_once('../data/test/*/*.png')\n",
    "file_queue = tf.train.string_input_producer(file_tensors)\n",
    "image_reader = tf.WholeFileReader()\n",
    "_,image_files = image_reader.read(file_queue)"
   ]
  },
  {
   "cell_type": "code",
   "execution_count": 4,
   "metadata": {},
   "outputs": [],
   "source": [
    "image = tf.image.decode_png(image_files)\n",
    "\n"
   ]
  },
  {
   "cell_type": "code",
   "execution_count": 5,
   "metadata": {
    "scrolled": false
   },
   "outputs": [
    {
     "name": "stdout",
     "output_type": "stream",
     "text": [
      "the image is  (29, 23, 3)\n"
     ]
    }
   ],
   "source": [
    "sess = tf.Session()\n",
    "init_op = tf.group(tf.global_variables_initializer(),tf.local_variables_initializer())\n",
    "sess.run(init_op)\n",
    "coord = tf.train.Coordinator()\n",
    "threads = tf.train.start_queue_runners(coord=coord, sess=sess)\n",
    "print('the image is ',sess.run(image).shape)\n",
    "coord.request_stop()\n",
    "coord.join(threads)\n",
    "image_label = b'\\x01'"
   ]
  },
  {
   "cell_type": "code",
   "execution_count": 6,
   "metadata": {},
   "outputs": [
    {
     "name": "stdout",
     "output_type": "stream",
     "text": [
      "38 43 3\n"
     ]
    },
    {
     "data": {
      "text/plain": [
       "<matplotlib.image.AxesImage at 0x7f679448f320>"
      ]
     },
     "execution_count": 6,
     "metadata": {},
     "output_type": "execute_result"
    },
    {
     "data": {
      "image/png": "[encoded data removed]",
      "text/plain": [
       "<Figure size 432x288 with 1 Axes>"
      ]
     },
     "metadata": {},
     "output_type": "display_data"
    }
   ],
   "source": [
    "image_loaded = sess.run(image)\n",
    "image_bytes = image_loaded.tobytes()\n",
    "h,w,c = image_loaded.shape\n",
    "print(h,w,c)\n",
    "plt.imshow(image_loaded[:,:,::-1])"
   ]
  },
  {
   "cell_type": "code",
   "execution_count": 7,
   "metadata": {},
   "outputs": [],
   "source": [
    "writer = tf.python_io.TFRecordWriter('../data/tfrecords/test_one_image.tfrecord')\n",
    "example = tf.train.Example(features=tf.train.Features(feature={\n",
    "    'label':tf.train.Feature(bytes_list = tf.train.BytesList(value=[image_label])),\n",
    "    'image':tf.train.Feature(bytes_list = tf.train.BytesList(value=[image_bytes]))\n",
    "}))"
   ]
  },
  {
   "cell_type": "code",
   "execution_count": 8,
   "metadata": {},
   "outputs": [],
   "source": [
    "writer.write(example.SerializePartialToString())\n",
    "writer.close()"
   ]
  },
  {
   "cell_type": "code",
   "execution_count": 9,
   "metadata": {},
   "outputs": [],
   "source": [
    "tf_record_file_name = '../data/tfrecords/test_one_image.tfrecord'\n",
    "tf_record_filename_queue = tf.train.string_input_producer([tf_record_file_name])\n",
    "tf_record_reader = tf.TFRecordReader()\n",
    "_,tf_record_serialized = tf_record_reader.read(tf_record_filename_queue)\n",
    "tf_record_features = tf.parse_single_example(\n",
    "    tf_record_serialized,\n",
    "    features={\n",
    "        'label':tf.FixedLenFeature([],tf.string),\n",
    "        'image':tf.FixedLenFeature([],tf.string),\n",
    "    })\n",
    "\n"
   ]
  },
  {
   "cell_type": "code",
   "execution_count": null,
   "metadata": {},
   "outputs": [],
   "source": [
    "tf_record_image = tf.decode_raw(tf_record_features['image'],tf.uint8)\n",
    "tf_record_image = tf.reshape(\n",
    "    tf_record_image,[h,w,c])\n",
    "sess.close()\n",
    "\n",
    "sess = tf.InteractiveSession()\n",
    "init_op = tf.group(tf.global_variables_initializer(), tf.local_variables_initializer())\n",
    "sess.run(init_op)\n",
    "coord = tf.train.Coordinator()\n",
    "threads = tf.train.start_queue_runners(coord=coord, sess=sess)"
   ]
  },
  {
   "cell_type": "code",
   "execution_count": null,
   "metadata": {},
   "outputs": [],
   "source": [
    "image_tfloaded = sess.run(tf_record_image)"
   ]
  },
  {
   "cell_type": "code",
   "execution_count": null,
   "metadata": {},
   "outputs": [],
   "source": [
    "print(image_tfloaded.shape)\n",
    "plt.imshow(image_tfloaded[:,:,::-1])"
   ]
  },
  {
   "cell_type": "code",
   "execution_count": null,
   "metadata": {},
   "outputs": [],
   "source": [
    "s = np.array('s',np.str)\n",
    "s.tobytes()"
   ]
  },
  {
   "cell_type": "code",
   "execution_count": null,
   "metadata": {},
   "outputs": [],
   "source": []
  },
  {
   "cell_type": "code",
   "execution_count": null,
   "metadata": {},
   "outputs": [],
   "source": []
  }
 ],
 "metadata": {
  "kernelspec": {
   "display_name": "Python 3",
   "language": "python",
   "name": "python3"
  },
  "language_info": {
   "codemirror_mode": {
    "name": "ipython",
    "version": 3
   },
   "file_extension": ".py",
   "mimetype": "text/x-python",
   "name": "python",
   "nbconvert_exporter": "python",
   "pygments_lexer": "ipython3",
   "version": "3.5.2"
  }
 },
 "nbformat": 4,
 "nbformat_minor": 2
}
