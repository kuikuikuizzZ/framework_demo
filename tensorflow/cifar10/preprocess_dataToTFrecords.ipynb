{
 "cells": [
  {
   "cell_type": "code",
   "execution_count": 3,
   "metadata": {},
   "outputs": [
    {
     "name": "stderr",
     "output_type": "stream",
     "text": [
      "/anaconda3/lib/python3.6/site-packages/h5py/__init__.py:36: FutureWarning: Conversion of the second argument of issubdtype from `float` to `np.floating` is deprecated. In future, it will be treated as `np.float64 == np.dtype(float).type`.\n",
      "  from ._conv import register_converters as _register_converters\n"
     ]
    }
   ],
   "source": [
    "import tensorflow as tf\n",
    "import os \n",
    "import glob\n",
    "import numpy as np\n",
    "import matplotlib.pyplot as plt\n",
    "import cv2\n",
    "%matplotlib inline\n",
    "label_list = ['airplane','automobile','bird','cat','deer','dog','frog','horse','ship','truck']\n"
   ]
  },
  {
   "cell_type": "code",
   "execution_count": 4,
   "metadata": {},
   "outputs": [],
   "source": [
    "char_dict = dict(zip(label_list,range(10)))"
   ]
  },
  {
   "cell_type": "code",
   "execution_count": null,
   "metadata": {},
   "outputs": [],
   "source": [
    "folders = glob.glob('./cifar10_image_data/*')\n",
    "folders.sort()\n",
    "num_classes = len(folders)\n",
    "tfrecord_dir = './tfrecords/'\n",
    "if not os.path.exists(tfrecord_dir):\n",
    "    os.makedirs(tfrecord_dir)\n",
    "writer = tf.python_io.TFRecordWriter('./tfrecords/train_data_shuffled1.tfrecord')\n",
    "print(num_classes)"
   ]
  },
  {
   "cell_type": "code",
   "execution_count": null,
   "metadata": {},
   "outputs": [],
   "source": [
    "# no shuffle to file \n",
    "\n",
    "for i,folder in enumerate(folders):\n",
    "    label = folder.split('/')[-1]\n",
    "    image_files = glob.glob(folder+'/*.jpg')\n",
    "    for img_name in image_files:\n",
    "        img = cv2.imread(img_name)\n",
    "        height,width,channel = img.shape\n",
    "#         img = cv2.resize(img,(32,32))\n",
    "        img_raw = img.tobytes()\n",
    "        label = i\n",
    "        example = tf.train.Example(features=tf.train.Features(feature={\n",
    "            'image_raw': tf.train.Feature(bytes_list = tf.train.BytesList(value=[img_raw])),\n",
    "            'label': tf.train.Feature(int64_list=tf.train.Int64List(value=[label])),\n",
    "            'height': tf.train.Feature(int64_list=tf.train.Int64List(value=[height])),\n",
    "            'width':tf.train.Feature(int64_list=tf.train.Int64List(value=[width])),\n",
    "            'channel':tf.train.Feature(int64_list=tf.train.Int64List(value=[channel]))\n",
    "        }))\n",
    "        writer.write(example.SerializeToString())\n",
    "#     print(label)\n",
    "writer.close()\n"
   ]
  },
  {
   "cell_type": "code",
   "execution_count": null,
   "metadata": {},
   "outputs": [],
   "source": [
    "# decode tfrecords\n",
    "tf_test_file = './tfrecords/train_data_shuffled1.tfrecord'\n",
    "tf_record_filename_queue = tf.train.string_input_producer([tf_test_file])\n",
    "reader = tf.TFRecordReader()\n",
    "_,example = reader.read(tf_record_filename_queue)\n",
    "features = tf.parse_single_example(example,features={\n",
    "    'image_raw':tf.FixedLenFeature([],tf.string),\n",
    "    'label': tf.FixedLenFeature([],tf.int64),\n",
    "    'height': tf.FixedLenFeature([],tf.int64),\n",
    "    'width': tf.FixedLenFeature([],tf.int64),\n",
    "    'channel': tf.FixedLenFeature([],tf.int64),\n",
    "})\n",
    "image = tf.decode_raw(features['image_raw'],tf.uint8)\n",
    "label = tf.cast(features['label'],tf.int32)\n",
    "height = tf.cast(features['height'],tf.int32)\n",
    "width = tf.cast(features['width'],tf.int32)\n",
    "channel = tf.cast(features['channel'],tf.int32)\n",
    "image = tf.reshape(image,[height,width,channel])\n"
   ]
  },
  {
   "cell_type": "code",
   "execution_count": null,
   "metadata": {},
   "outputs": [],
   "source": [
    "# test_tfrecord with different shape\n",
    "sess = tf.Session()\n",
    "init_op = tf.group(tf.global_variables_initializer(),\n",
    "                   tf.local_variables_initializer())\n",
    "sess.run(init_op)\n",
    "coord = tf.train.Coordinator()\n",
    "threads = tf.train.start_queue_runners(coord=coord, sess=sess)"
   ]
  },
  {
   "cell_type": "code",
   "execution_count": null,
   "metadata": {},
   "outputs": [],
   "source": [
    "for i in range(200):\n",
    "    img_loaded,label_loaded = sess.run([image,label])\n",
    "plt.imshow(img_loaded[:,:,::-1])\n",
    "print(img_loaded.shape)\n",
    "print(label_loaded)\n",
    "sess.close()"
   ]
  },
  {
   "cell_type": "markdown",
   "metadata": {},
   "source": [
    "### tensorflow dataset api\n",
    "因为上面的方法是使用tensorflow 比较旧，而且比较难用的队列管理输入数据，下面我们使用dataset api, 可以比较清晰地去实现输入的高效管理。\n",
    "我们实践发现，现在文件层面使用shuffle可能会比较地快捷。所以下面使用了zip去实现。"
   ]
  },
  {
   "cell_type": "code",
   "execution_count": null,
   "metadata": {},
   "outputs": [],
   "source": [
    "import random\n",
    "test_files = glob.glob('./cifar10_image_data_test/*/*.jpg')\n",
    "test_files.sort()\n",
    "labels = [char_dict[file.split('/')[-2]] for file in test_files]\n",
    "test_data = zip(test_files,labels)\n",
    "test_data = list(test_data)\n",
    "random.shuffle(test_data)"
   ]
  },
  {
   "cell_type": "code",
   "execution_count": null,
   "metadata": {},
   "outputs": [],
   "source": [
    "\n",
    "writer = tf.python_io.TFRecordWriter('./tfrecords/test_data_shuffled.tfrecord')\n",
    "\n",
    "\n",
    "# shuffled  test data in file stage\n",
    "for image_path,label in test_data:\n",
    "        img = cv2.imread(image_path)\n",
    "        height,width,channel = img.shape\n",
    "#         img = cv2.resize(img,(32,32))\n",
    "        img_raw = img.tobytes()\n",
    "        example = tf.train.Example(features=tf.train.Features(feature={\n",
    "            'image_raw': tf.train.Feature(bytes_list = tf.train.BytesList(value=[img_raw])),\n",
    "            'label': tf.train.Feature(int64_list=tf.train.Int64List(value=[label])),\n",
    "            'height': tf.train.Feature(int64_list=tf.train.Int64List(value=[height])),\n",
    "            'width':tf.train.Feature(int64_list=tf.train.Int64List(value=[width])),\n",
    "            'channel':tf.train.Feature(int64_list=tf.train.Int64List(value=[channel]))\n",
    "        }))\n",
    "        writer.write(example.SerializeToString())\n",
    "#     print(label)\n",
    "writer.close()"
   ]
  },
  {
   "cell_type": "code",
   "execution_count": 1,
   "metadata": {},
   "outputs": [],
   "source": [
    "# use dataset api\n",
    "def parser(record):\n",
    "    features = tf.parse_single_example(record,features={\n",
    "    'image_raw':tf.FixedLenFeature([],tf.string),\n",
    "    'label': tf.FixedLenFeature([],tf.int64),\n",
    "    'height': tf.FixedLenFeature([],tf.int64),\n",
    "    'width': tf.FixedLenFeature([],tf.int64),\n",
    "    'channel': tf.FixedLenFeature([],tf.int64),\n",
    "    })\n",
    "    \n",
    "    image = tf.decode_raw(features['image_raw'],tf.uint8)\n",
    "    label = tf.cast(features['label'],tf.int32)\n",
    "    height = tf.cast(features['height'],tf.int32)\n",
    "    width = tf.cast(features['width'],tf.int32)\n",
    "    channel = tf.cast(features['channel'],tf.int32)\n",
    "    image = tf.reshape(image,[height,width,channel])\n",
    "    image = tf.image.resize_images(image,[32,32],method=0)\n",
    "    return image,label"
   ]
  },
  {
   "cell_type": "code",
   "execution_count": 5,
   "metadata": {},
   "outputs": [],
   "source": [
    "batch_size = 120\n",
    "num_epochs = 100\n",
    "train_file_name = './tfrecords/train_data_shuffled1.tfrecord'\n",
    "train_file = tf.train.match_filenames_once(train_file_name)\n",
    "dataset = tf.data.TFRecordDataset(train_file)\n",
    "dataset = dataset.map(parser,num_parallel_calls=4)\n",
    "dataset = dataset.shuffle(1000).batch(batch_size).repeat()     #这里还是会有问题的，如果不是接近整个dataset大小感觉不行\n",
    "dataset = dataset.prefetch(10000)\n",
    "iterator = dataset.make_initializable_iterator()\n",
    "image_batch,label_batch = iterator.get_next()\n"
   ]
  },
  {
   "cell_type": "code",
   "execution_count": 6,
   "metadata": {},
   "outputs": [],
   "source": [
    "# with tf.Session() as sess:\n",
    "import time\n",
    "\n",
    "sess = tf.Session()\n",
    "init_op = tf.group(tf.global_variables_initializer(),\n",
    "               tf.local_variables_initializer())\n",
    "sess.run(init_op)\n",
    "sess.run(iterator.initializer)\n"
   ]
  },
  {
   "cell_type": "code",
   "execution_count": 25,
   "metadata": {},
   "outputs": [
    {
     "name": "stdout",
     "output_type": "stream",
     "text": [
      "takes 0.019625\n",
      "1\n"
     ]
    },
    {
     "data": {
      "text/plain": [
       "<matplotlib.image.AxesImage at 0xb465ae518>"
      ]
     },
     "execution_count": 25,
     "metadata": {},
     "output_type": "execute_result"
    },
    {
     "data": {
      "image/png": "[encoded data removed]",
      "text/plain": [
       "<Figure size 432x288 with 1 Axes>"
      ]
     },
     "metadata": {},
     "output_type": "display_data"
    }
   ],
   "source": [
    "start = time.time()\n",
    "for i in range(30):\n",
    "    image_loaded,label_loaded = sess.run([image_batch,label_batch])\n",
    "end = time.time()\n",
    "print('takes %04f' %(end-start))\n",
    "image_example = image_loaded[0].astype(np.uint8)\n",
    "print(label_loaded[0])\n",
    "plt.imshow(image_example[:,:,::-1])"
   ]
  },
  {
   "cell_type": "code",
   "execution_count": null,
   "metadata": {},
   "outputs": [],
   "source": []
  },
  {
   "cell_type": "code",
   "execution_count": null,
   "metadata": {},
   "outputs": [],
   "source": []
  }
 ],
 "metadata": {
  "kernelspec": {
   "display_name": "Python 3",
   "language": "python",
   "name": "python3"
  },
  "language_info": {
   "codemirror_mode": {
    "name": "ipython",
    "version": 3
   },
   "file_extension": ".py",
   "mimetype": "text/x-python",
   "name": "python",
   "nbconvert_exporter": "python",
   "pygments_lexer": "ipython3",
   "version": "3.6.5"
  }
 },
 "nbformat": 4,
 "nbformat_minor": 2
}
